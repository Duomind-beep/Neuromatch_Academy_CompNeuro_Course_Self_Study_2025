{
 "cells": [
  {
   "cell_type": "markdown",
   "id": "7e0d189a-af38-47f2-861c-1a2e63093a92",
   "metadata": {},
   "source": [
    "# Tutorial 1: The Leaky Integrate-and-Fire (LIF) Neuron Model\n",
    "\n",
    "**Week 2, Day 3: Biological Neuron Models**\n",
    "\n",
    "**By Neuromatch Academy**\n",
    "\n",
    "**Content creators:** Qinglong Gu, Songtin Li, John Murray, Richard Naud, Arvind Kumar\n",
    "\n",
    "**Content reviewers:**  Maryam Vaziri-Pashkam, Ella Batty, Lorenzo Fontolan, Richard Gao, Matthew Krause, Spiros Chavlis, Michael Waskom, Ethan Cheng\n",
    "\n",
    "**Production editors:** Gagana B, Spiros Chavlis"
   ]
  },
  {
   "cell_type": "markdown",
   "id": "7405a480-3d4e-40c2-a0bf-9309d19ff880",
   "metadata": {},
   "source": [
    "---\n",
    "# Tutorial Objectives\n",
    "\n",
    "This is Tutorial 1 of a series on implementing realistic neuron models. In this tutorial, we will build up a leaky integrate-and-fire (LIF) neuron model and study its dynamics in response to various types of inputs. In particular, we are going to write a few lines of code to:\n",
    "\n",
    "- simulate the LIF neuron model\n",
    "\n",
    "- drive the LIF neuron with external inputs, such as direct currents, Gaussian white noise, and Poisson spike trains, etc.\n",
    "\n",
    "- study how different inputs affect the  LIF neuron's output (firing rate and spike time irregularity)\n",
    "\n",
    "Here, we will especially emphasize identifying conditions (input statistics) under which a neuron can spike at low firing rates and in an irregular manner. The reason for focusing on this is that in most cases, neocortical neurons spike in an irregular manner."
   ]
  },
  {
   "cell_type": "code",
   "execution_count": 2,
   "id": "2a03987c-1bf7-441c-8c5b-2c2768990ef9",
   "metadata": {},
   "outputs": [],
   "source": [
    "# Imports\n",
    "import numpy as np\n",
    "import matplotlib.pyplot as plt"
   ]
  },
  {
   "cell_type": "markdown",
   "id": "809b2fca-3a32-4d68-aaa4-c88feb0d5e98",
   "metadata": {},
   "source": [
    "# Figure Settings"
   ]
  },
  {
   "cell_type": "code",
   "execution_count": 3,
   "id": "d8c8609c-2328-4db6-8793-b3b98540b5ea",
   "metadata": {},
   "outputs": [],
   "source": [
    "import logging\n",
    "logging.getLogger('matplotlib.font_manager').disabled = True\n",
    "\n",
    "import ipywidgets as widgets  # interactive display\n",
    "%config InlineBackend.figure_format = 'retina'\n",
    "# use NMA plot style\n",
    "plt.style.use(\"https://raw.githubusercontent.com/NeuromatchAcademy/course-content/main/nma.mplstyle\")\n",
    "my_layout = widgets.Layout()"
   ]
  },
  {
   "cell_type": "markdown",
   "id": "54da6d82-f09e-4dc5-b66f-c7d45382089f",
   "metadata": {},
   "source": [
    "# Plotting Functions"
   ]
  },
  {
   "cell_type": "code",
   "execution_count": 4,
   "id": "65b7c448-5667-4340-afab-dff0788fbdc2",
   "metadata": {},
   "outputs": [],
   "source": [
    "def plot_volt_trace(pars, v, sp):\n",
    "  \"\"\"\n",
    "  Plot trajetory of membrane potential for a single neuron\n",
    "\n",
    "  Expects:\n",
    "  pars   : parameter dictionary\n",
    "  v      : volt trajetory\n",
    "  sp     : spike train\n",
    "\n",
    "  Returns:\n",
    "  figure of the membrane potential trajetory for a single neuron\n",
    "  \"\"\"\n",
    "\n",
    "  V_th = pars['V_th']\n",
    "  dt, range_t = pars['dt'], pars['range_t']\n",
    "  if sp.size:\n",
    "    sp_num = (sp / dt).astype(int) - 1\n",
    "    v[sp_num] += 20  # draw nicer spikes\n",
    "\n",
    "  plt.plot(pars['range_t'], v, 'b')\n",
    "  plt.axhline(V_th, 0, 1, color='k', ls='--')\n",
    "  plt.xlabel('Time (ms)')\n",
    "  plt.ylabel('V (mV)')\n",
    "  plt.legend(['Membrane\\npotential', r'Threshold V$_{\\mathrm{th}}$'],\n",
    "             loc=[1.05, 0.75])\n",
    "  plt.ylim([-80, -40])\n",
    "  plt.show()\n",
    "\n",
    "\n",
    "def plot_GWN(pars, I_GWN):\n",
    "  \"\"\"\n",
    "  Args:\n",
    "    pars  : parameter dictionary\n",
    "    I_GWN : Gaussian white noise input\n",
    "\n",
    "  Returns:\n",
    "    figure of the gaussian white noise input\n",
    "  \"\"\"\n",
    "\n",
    "  plt.figure(figsize=(12, 4))\n",
    "  plt.subplot(121)\n",
    "  plt.plot(pars['range_t'][::3], I_GWN[::3], 'b')\n",
    "  plt.xlabel('Time (ms)')\n",
    "  plt.ylabel(r'$I_{GWN}$ (pA)')\n",
    "  plt.subplot(122)\n",
    "  plot_volt_trace(pars, v, sp)\n",
    "  plt.tight_layout()\n",
    "  plt.show()\n",
    "\n",
    "\n",
    "def my_hists(isi1, isi2, cv1, cv2, sigma1, sigma2):\n",
    "  \"\"\"\n",
    "  Args:\n",
    "    isi1 : vector with inter-spike intervals\n",
    "    isi2 : vector with inter-spike intervals\n",
    "    cv1  : coefficient of variation for isi1\n",
    "    cv2  : coefficient of variation for isi2\n",
    "\n",
    "  Returns:\n",
    "    figure with two histograms, isi1, isi2\n",
    "\n",
    "  \"\"\"\n",
    "  plt.figure(figsize=(11, 4))\n",
    "  my_bins = np.linspace(10, 30, 20)\n",
    "  plt.subplot(121)\n",
    "  plt.hist(isi1, bins=my_bins, color='b', alpha=0.5)\n",
    "  plt.xlabel('ISI (ms)')\n",
    "  plt.ylabel('count')\n",
    "  plt.title(r'$\\sigma_{GWN}=$%.1f, CV$_{\\mathrm{isi}}$=%.3f' % (sigma1, cv1))\n",
    "\n",
    "  plt.subplot(122)\n",
    "  plt.hist(isi2, bins=my_bins, color='b', alpha=0.5)\n",
    "  plt.xlabel('ISI (ms)')\n",
    "  plt.ylabel('count')\n",
    "  plt.title(r'$\\sigma_{GWN}=$%.1f, CV$_{\\mathrm{isi}}$=%.3f' % (sigma2, cv2))\n",
    "  plt.tight_layout()\n",
    "  plt.show()"
   ]
  },
  {
   "cell_type": "markdown",
   "id": "64679680-30db-42e5-837e-f864076a5ccc",
   "metadata": {},
   "source": [
    "---\n",
    "# Section 1: The Leaky Integrate-and-Fire (LIF) model"
   ]
  },
  {
   "cell_type": "markdown",
   "id": "cc132f41-ba37-427b-b472-8378e70ac257",
   "metadata": {},
   "source": [
    "Note that you have seen the LIF model before if you looked at the pre-reqs Python or Calculus days!\n",
    "\n",
    "The LIF model captures the facts that a neuron:\n",
    "- performs spatial and temporal integration of synaptic inputs\n",
    "- generates a spike when the voltage reaches a certain threshold\n",
    "- goes refractory during the action potential\n",
    "- has a leaky membrane\n",
    "\n",
    "The LIF model assumes that the spatial and temporal integration of inputs is linear. Also, membrane potential dynamics close to the spike threshold are much slower in LIF neurons than in real neurons."
   ]
  },
  {
   "cell_type": "markdown",
   "id": "16dbada3-8251-416c-9509-d34e8ff7f419",
   "metadata": {},
   "source": [
    "## Coding Exercise 1: Python code to simulate the LIF neuron\n",
    "\n",
    "We now write Python code to calculate our equation for the LIF neuron and simulate the LIF neuron dynamics. We will use the Euler method, which you saw in the linear systems case yesterday  to numerically integrate this equation:\n",
    "\n",
    "\\begin{equation}\n",
    "\\tau_m\\frac{dV}{dt} = -(V-E_L) + \\frac{I}{g_L}\\,\n",
    "\\end{equation}\n",
    "\n",
    "where $V$ is the membrane potential, $g_L$ is the leak conductance, $E_L$ is the resting potential, $I$ is the external input current, and $\\tau_m$ is membrane time constant.\n",
    "\n",
    "The cell below initializes a dictionary that stores parameters of the LIF neuron model and the simulation scheme. You can use `pars=default_pars(T=simulation_time, dt=time_step)` to get the parameters. Note that, `simulation_time` and `time_step` have the unit `ms`. In addition, you can add the value to a new parameter by `pars['New_param'] = value`."
   ]
  },
  {
   "cell_type": "markdown",
   "id": "4f11dc70-fadd-45f8-ba31-22186765c36e",
   "metadata": {},
   "source": [
    "Execute this code to initialize the default parameters"
   ]
  },
  {
   "cell_type": "code",
   "execution_count": 5,
   "id": "aff515d3-b05e-43b4-9565-70d1c8c640d9",
   "metadata": {},
   "outputs": [
    {
     "name": "stdout",
     "output_type": "stream",
     "text": [
      "{'V_th': -55.0, 'V_reset': -75.0, 'tau_m': 10.0, 'g_L': 10.0, 'V_init': -75.0, 'E_L': -75.0, 'tref': 2.0, 'T': 400.0, 'dt': 0.1, 'range_t': array([0.000e+00, 1.000e-01, 2.000e-01, ..., 3.997e+02, 3.998e+02,\n",
      "       3.999e+02], shape=(4000,))}\n"
     ]
    }
   ],
   "source": [
    "def default_pars(**kwargs):\n",
    "  pars = {}\n",
    "\n",
    "  # typical neuron parameters#\n",
    "  pars['V_th'] = -55.     # spike threshold [mV]\n",
    "  pars['V_reset'] = -75.  # reset potential [mV]\n",
    "  pars['tau_m'] = 10.     # membrane time constant [ms]\n",
    "  pars['g_L'] = 10.       # leak conductance [nS]\n",
    "  pars['V_init'] = -75.   # initial potential [mV]\n",
    "  pars['E_L'] = -75.      # leak reversal potential [mV]\n",
    "  pars['tref'] = 2.       # refractory time (ms)\n",
    "\n",
    "  # simulation parameters #\n",
    "  pars['T'] = 400.  # Total duration of simulation [ms]\n",
    "  pars['dt'] = .1   # Simulation time step [ms]\n",
    "\n",
    "  # external parameters if any #\n",
    "  for k in kwargs:\n",
    "    pars[k] = kwargs[k]\n",
    "\n",
    "  pars['range_t'] = np.arange(0, pars['T'], pars['dt'])  # Vector of discretized time points [ms]\n",
    "\n",
    "  return pars\n",
    "\n",
    "\n",
    "pars = default_pars()\n",
    "print(pars)"
   ]
  },
  {
   "cell_type": "markdown",
   "id": "11b9e3c0-de12-4db0-8a43-1e0a5005366a",
   "metadata": {},
   "source": [
    "Complete the function below to simulate the LIF neuron when receiving external current inputs. You can use `v, sp = run_LIF(pars, Iinj)` to get the membrane potential (`v`) and spike train (`sp`) given the dictionary `pars` and input current `Iinj`."
   ]
  },
  {
   "cell_type": "code",
   "execution_count": 6,
   "id": "76b637bf-7fe2-4b4b-980d-1fc57d2d0de4",
   "metadata": {},
   "outputs": [
    {
     "data": {
      "image/png": "[encoded data removed]",
      "text/plain": [
       "<Figure size 800x600 with 1 Axes>"
      ]
     },
     "metadata": {
      "image/png": {
       "height": 575,
       "width": 767
      }
     },
     "output_type": "display_data"
    }
   ],
   "source": [
    "def run_LIF(pars, Iinj, stop=False):\n",
    "  \"\"\"\n",
    "  Simulate the LIF dynamics with external input current\n",
    "\n",
    "  Args:\n",
    "    pars       : parameter dictionary\n",
    "    Iinj       : input current [pA]. The injected current here can be a value\n",
    "                 or an array\n",
    "    stop       : boolean. If True, use a current pulse\n",
    "\n",
    "  Returns:\n",
    "    rec_v      : membrane potential\n",
    "    rec_sp     : spike times\n",
    "  \"\"\"\n",
    "\n",
    "  # Set parameters\n",
    "  V_th, V_reset = pars['V_th'], pars['V_reset']\n",
    "  tau_m, g_L = pars['tau_m'], pars['g_L']\n",
    "  V_init, E_L = pars['V_init'], pars['E_L']\n",
    "  dt, range_t = pars['dt'], pars['range_t']\n",
    "  Lt = range_t.size\n",
    "  tref = pars['tref']\n",
    "\n",
    "  # Initialize voltage\n",
    "  v = np.zeros(Lt)\n",
    "  v[0] = V_init\n",
    "\n",
    "  # Set current time course\n",
    "  Iinj = Iinj * np.ones(Lt)\n",
    "\n",
    "  # If current pulse, set beginning and end to 0\n",
    "  if stop:\n",
    "    Iinj[:int(len(Iinj) / 2) - 1000] = 0\n",
    "    Iinj[int(len(Iinj) / 2) + 1000:] = 0\n",
    "\n",
    "  # Loop over time\n",
    "  rec_spikes = []  # record spike times\n",
    "  tr = 0.  # the count for refractory duration\n",
    "\n",
    "  for it in range(Lt - 1):\n",
    "\n",
    "    if tr > 0:  # check if in refractory period\n",
    "      v[it] = V_reset  # set voltage to reset\n",
    "      tr = tr - 1 # reduce running counter of refractory period\n",
    "\n",
    "    elif v[it] >= V_th:  # if voltage over threshold\n",
    "      rec_spikes.append(it)  # record spike event\n",
    "      v[it] = V_reset  # reset voltage\n",
    "      tr = tref / dt  # set refractory time\n",
    "\n",
    "    ########################################################################\n",
    "    ## TODO for students: compute the membrane potential v, spike train sp #\n",
    "    # Fill out function and remove\n",
    "    # raise NotImplementedError('Student Exercise: calculate the dv/dt and the update step!')\n",
    "    ########################################################################\n",
    "\n",
    "    # Calculate the increment of the membrane potential\n",
    "    dv = (-(v[it] - E_L) + Iinj[it]/g_L) * (dt/tau_m)\n",
    "\n",
    "    # Update the membrane potential\n",
    "    v[it + 1] = v[it] + dv\n",
    "\n",
    "  # Get spike times in ms\n",
    "  rec_spikes = np.array(rec_spikes) * dt\n",
    "\n",
    "  return v, rec_spikes\n",
    "\n",
    "\n",
    "# Get parameters\n",
    "pars = default_pars(T=500)\n",
    "\n",
    "# Simulate LIF model\n",
    "v, sp = run_LIF(pars, Iinj=100, stop=True)\n",
    "\n",
    "# Visualize\n",
    "plot_volt_trace(pars, v, sp)"
   ]
  },
  {
   "cell_type": "markdown",
   "id": "594e63b3-424c-46d3-b161-e20b0ca72de7",
   "metadata": {},
   "source": [
    "---\n",
    "# Section 2: Response of an LIF model to different types of input currents\n",
    "\n",
    "In the following section, we will learn how to inject direct current and white noise to study the response of an LIF neuron."
   ]
  },
  {
   "cell_type": "markdown",
   "id": "38905080-8769-4ab8-89ed-72e57443ca45",
   "metadata": {},
   "source": [
    "## Section 2.1: Direct current (DC)"
   ]
  },
  {
   "cell_type": "markdown",
   "id": "f308b8cb-c7f2-42d2-bce4-50c10e46408e",
   "metadata": {},
   "source": [
    "### Interactive Demo 2.1: Parameter exploration of DC input amplitude\n",
    "Here's an interactive demo that shows how the LIF neuron behavior changes for DC input (constant current) with different amplitudes. We plot the membrane potential of an LIF neuron. You may notice that the neuron generates a spike. But this is just a cosmetic spike only for illustration purposes. In an LIF neuron, we only need to keep track of times when the neuron hits the threshold so the postsynaptic neurons can be informed of the spike.\n",
    "\n",
    "How much DC is needed to reach the threshold (rheobase current)? How does the membrane time constant affect the frequency of the neuron?"
   ]
  },
  {
   "cell_type": "code",
   "execution_count": 7,
   "id": "0fa1dc2b-0d15-457c-ba58-b3838d855047",
   "metadata": {},
   "outputs": [
    {
     "data": {
      "application/vnd.jupyter.widget-view+json": {
       "model_id": "59fc50d00479447982862bf86aebee1e",
       "version_major": 2,
       "version_minor": 0
      },
      "text/plain": [
       "interactive(children=(FloatSlider(value=50.0, description='I_dc', layout=Layout(width='450px'), max=300.0, ste…"
      ]
     },
     "metadata": {},
     "output_type": "display_data"
    }
   ],
   "source": [
    "my_layout.width = '450px'\n",
    "@widgets.interact(\n",
    "    I_dc=widgets.FloatSlider(50., min=0., max=300., step=10.,\n",
    "                             layout=my_layout),\n",
    "    tau_m=widgets.FloatSlider(10., min=2., max=20., step=2.,\n",
    "                              layout=my_layout)\n",
    ")\n",
    "\n",
    "def diff_DC(I_dc=200., tau_m=10.):\n",
    "  pars = default_pars(T=100.)\n",
    "  pars['tau_m'] = tau_m\n",
    "  v, sp = run_LIF(pars, Iinj=I_dc)\n",
    "  plot_volt_trace(pars, v, sp)\n",
    "  plt.show()"
   ]
  },
  {
   "cell_type": "code",
   "execution_count": 8,
   "id": "9f84be5a-9caa-4a16-b71a-fce3cec1b75b",
   "metadata": {},
   "outputs": [],
   "source": [
    "\"\"\"\n",
    "1. As we increase the current, we observe that at 210 pA we cross the threshold.\n",
    "\n",
    "2. As we increase the membrane time constant (slower membrane), the firing rate\n",
    "is decreased because the membrane needs more time to reach the threshold after\n",
    "the reset.\n",
    "\"\"\";"
   ]
  },
  {
   "cell_type": "markdown",
   "id": "a36c3165-87ef-4949-b36c-92584118df7f",
   "metadata": {},
   "source": [
    "## Section 2.2: Gaussian white noise (GWN) current\n",
    "\n",
    "Given the noisy nature of neuronal activity _in vivo_, neurons usually receive complex, time-varying inputs.\n",
    "\n",
    "To mimic this, we will now investigate the neuronal response when the LIF neuron receives Gaussian white noise $\\xi(t)$ with mean 0 ($\\mu = 0$) and some standard deviation $\\sigma$.\n",
    "\n",
    "Note that the GWN has zero mean, that is, it describes only the fluctuations of the input received by a neuron. We can thus modify our definition of GWN to have a nonzero mean value $\\mu$ that equals the DC input, since this is the average input into the cell. The cell below defines the modified gaussian white noise currents with nonzero mean $\\mu$."
   ]
  },
  {
   "cell_type": "markdown",
   "id": "4d843504-c1ad-4840-972b-526159401c00",
   "metadata": {},
   "source": [
    "### Interactive Demo 2.2: LIF neuron Explorer for noisy input\n",
    "\n",
    "\n",
    "The mean of the Gaussian white noise (GWN) is the amplitude of DC. Indeed, when $\\sigma = 0$, GWN is just a DC.\n",
    "\n",
    "So the question arises how does $\\sigma$ of the GWN affect the spiking behavior of the neuron. For instance we may want to know\n",
    "1.  how does the minimum input (i.e., $\\mu$) needed to make a neuron spike change with increase in $\\sigma$\n",
    "2.  how does the spike regularity change with increase in $\\sigma$\n",
    "\n",
    "To get an intuition about these questions you can use the following interactive demo that shows how the LIF neuron behavior changes for noisy input with different amplitudes (the mean $\\mu$) and fluctuation sizes ($\\sigma$). We use a helper function to generate this noisy input current: `my_GWN(pars, mu, sig, myseed=False)`.  Note that fixing the value of the random seed (e.g., `myseed=2020`) will allow you to obtain the same result every time you run this. We then use our `run_LIF` function to simulate the LIF model.\n"
   ]
  },
  {
   "cell_type": "markdown",
   "id": "327710f1-ab4e-4240-b03a-789e143d3920",
   "metadata": {},
   "source": [
    "Execute to enable helper function `my_GWN`"
   ]
  },
  {
   "cell_type": "code",
   "execution_count": 9,
   "id": "0be0dcef-f60a-4662-a90a-133342911636",
   "metadata": {},
   "outputs": [
    {
     "name": "stdout",
     "output_type": "stream",
     "text": [
      "Help on function my_GWN in module __main__:\n",
      "\n",
      "my_GWN(pars, mu, sig, myseed=False)\n",
      "    Function that generates Gaussian white noise input\n",
      "\n",
      "    Args:\n",
      "      pars       : parameter dictionary\n",
      "      mu         : noise baseline (mean)\n",
      "      sig        : noise amplitute (standard deviation)\n",
      "      myseed     : random seed. int or boolean\n",
      "                   the same seed will give the same\n",
      "                   random number sequence\n",
      "\n",
      "    Returns:\n",
      "      I          : Gaussian white noise input\n",
      "\n"
     ]
    }
   ],
   "source": [
    "def my_GWN(pars, mu, sig, myseed=False):\n",
    "  \"\"\"\n",
    "  Function that generates Gaussian white noise input\n",
    "\n",
    "  Args:\n",
    "    pars       : parameter dictionary\n",
    "    mu         : noise baseline (mean)\n",
    "    sig        : noise amplitute (standard deviation)\n",
    "    myseed     : random seed. int or boolean\n",
    "                 the same seed will give the same\n",
    "                 random number sequence\n",
    "\n",
    "  Returns:\n",
    "    I          : Gaussian white noise input\n",
    "  \"\"\"\n",
    "\n",
    "  # Retrieve simulation parameters\n",
    "  dt, range_t = pars['dt'], pars['range_t']\n",
    "  Lt = range_t.size\n",
    "\n",
    "  # Set random seed\n",
    "  if myseed:\n",
    "      np.random.seed(seed=myseed)\n",
    "  else:\n",
    "      np.random.seed()\n",
    "\n",
    "  # Generate GWN\n",
    "  # we divide here by 1000 to convert units to sec.\n",
    "  I_gwn = mu + sig * np.random.randn(Lt) / np.sqrt(dt / 1000.)\n",
    "\n",
    "  return I_gwn\n",
    "\n",
    "help(my_GWN)"
   ]
  },
  {
   "cell_type": "markdown",
   "id": "627da731-761f-47fe-9d09-0c2e58d95e9b",
   "metadata": {},
   "source": [
    "Make sure you execute this cell to enable the widget!"
   ]
  },
  {
   "cell_type": "code",
   "execution_count": 10,
   "id": "530ecefb-32e8-4d4a-b1ba-7eec83790cd4",
   "metadata": {},
   "outputs": [
    {
     "data": {
      "application/vnd.jupyter.widget-view+json": {
       "model_id": "fc6044072cbb495eb3d48ab6e36f0f4d",
       "version_major": 2,
       "version_minor": 0
      },
      "text/plain": [
       "interactive(children=(FloatSlider(value=200.0, description='mu_gwn', layout=Layout(width='450px'), max=300.0, …"
      ]
     },
     "metadata": {},
     "output_type": "display_data"
    }
   ],
   "source": [
    "my_layout.width = '450px'\n",
    "@widgets.interact(\n",
    "    mu_gwn=widgets.FloatSlider(200., min=100., max=300., step=5.,\n",
    "                               layout=my_layout),\n",
    "    sig_gwn=widgets.FloatSlider(2.5, min=0., max=5., step=.5,\n",
    "                                layout=my_layout)\n",
    ")\n",
    "\n",
    "\n",
    "def diff_GWN_to_LIF(mu_gwn, sig_gwn):\n",
    "  pars = default_pars(T=100.)\n",
    "  I_GWN = my_GWN(pars, mu=mu_gwn, sig=sig_gwn)\n",
    "  v, sp = run_LIF(pars, Iinj=I_GWN)\n",
    "  plt.figure(figsize=(12, 4))\n",
    "  plt.subplot(121)\n",
    "  plt.plot(pars['range_t'][::3], I_GWN[::3], 'b')\n",
    "  plt.xlabel('Time (ms)')\n",
    "  plt.ylabel(r'$I_{GWN}$ (pA)')\n",
    "  plt.subplot(122)\n",
    "  plot_volt_trace(pars, v, sp)\n",
    "  plt.tight_layout()\n",
    "  plt.show()"
   ]
  },
  {
   "cell_type": "code",
   "execution_count": 11,
   "id": "eab556a1-2f9b-482f-b55a-8b0b239953b6",
   "metadata": {},
   "outputs": [],
   "source": [
    "\n",
    "\"\"\"\n",
    "1) If we have bigger current fluctuations (increased sigma), the minimum input needed\n",
    "to make a neuron spike is smaller as the fluctuations can help push the voltage above\n",
    "threshold.\n",
    "\n",
    "2) The standard deviation (or size of current fluctuations) dictates the level of\n",
    "irregularity of the spikes; the higher the sigma the more irregular the observed\n",
    "spikes.\n",
    "\n",
    "\"\"\";"
   ]
  },
  {
   "cell_type": "markdown",
   "id": "4f539eff-ceb7-44fb-a7f0-a7692bf3cbeb",
   "metadata": {},
   "source": [
    "---\n",
    "# Section 3: Firing rate and spike time irregularity\n",
    "\n",
    "When we plot the output firing rate as a function of GWN mean or DC value, it is called the input-output transfer function of the neuron (so simply F-I curve).\n",
    "\n",
    "Spike regularity can be quantified as the **coefficient of variation (CV) of the interspike interval (ISI)**:\n",
    "\n",
    "\\begin{equation}\n",
    "\\text{CV}_{\\text{ISI}} = \\frac{std(\\text{ISI})}{mean(\\text{ISI})}\n",
    "\\end{equation}\n",
    "\n",
    "A Poisson train is an example of high irregularity, in which $\\textbf{CV}_{\\textbf{ISI}} \\textbf{= 1}$. And for a clocklike (regular) process we have $\\textbf{CV}_{\\textbf{ISI}} \\textbf{= 0}$ because of **std(ISI)=0**."
   ]
  },
  {
   "cell_type": "markdown",
   "id": "512c07b0-8375-4fcf-97e0-a5426de6c36c",
   "metadata": {},
   "source": [
    "## Interactive Demo 3A: F-I Explorer for different `sig_gwn`\n",
    "\n",
    "How does the F-I curve of the LIF neuron change as we increase the $\\sigma$ of the GWN? We can already expect that the F-I curve will be stochastic and the results will vary from one trial to another. But will there be any other change compared to the F-I curved measured using DC?\n",
    "\n",
    "Here's an interactive demo that shows how the F-I curve of a LIF neuron changes for different levels of fluctuation $\\sigma$.\n"
   ]
  },
  {
   "cell_type": "code",
   "execution_count": 12,
   "id": "e3b6b735-a406-46dc-ba9b-2e3a3c156d79",
   "metadata": {},
   "outputs": [
    {
     "data": {
      "application/vnd.jupyter.widget-view+json": {
       "model_id": "e27f67be1e564276941396731f6a96a4",
       "version_major": 2,
       "version_minor": 0
      },
      "text/plain": [
       "interactive(children=(FloatSlider(value=3.0, description='sig_gwn', layout=Layout(width='450px'), max=6.0, ste…"
      ]
     },
     "metadata": {},
     "output_type": "display_data"
    }
   ],
   "source": [
    "my_layout.width = '450px'\n",
    "@widgets.interact(\n",
    "    sig_gwn=widgets.FloatSlider(3.0, min=0., max=6., step=0.5,\n",
    "                                layout=my_layout)\n",
    ")\n",
    "\n",
    "\n",
    "def diff_std_affect_fI(sig_gwn):\n",
    "  pars = default_pars(T=1000.)\n",
    "  I_mean = np.arange(100., 400., 10.)\n",
    "  spk_count = np.zeros(len(I_mean))\n",
    "  spk_count_dc = np.zeros(len(I_mean))\n",
    "\n",
    "  for idx in range(len(I_mean)):\n",
    "      I_GWN = my_GWN(pars, mu=I_mean[idx], sig=sig_gwn, myseed=2020)\n",
    "      v, rec_spikes = run_LIF(pars, Iinj=I_GWN)\n",
    "      v_dc, rec_sp_dc = run_LIF(pars, Iinj=I_mean[idx])\n",
    "      spk_count[idx] = len(rec_spikes)\n",
    "      spk_count_dc[idx] = len(rec_sp_dc)\n",
    "\n",
    "  # Plot the F-I curve i.e. Output firing rate as a function of input mean.\n",
    "  plt.figure()\n",
    "  plt.plot(I_mean, spk_count, 'k',\n",
    "           label=r'$\\sigma_{\\mathrm{GWN}}=%.2f$' % sig_gwn)\n",
    "  plt.plot(I_mean, spk_count_dc, 'k--', alpha=0.5, lw=4, dashes=(2, 2),\n",
    "           label='DC input')\n",
    "  plt.ylabel('Spike count')\n",
    "  plt.xlabel('Average injected current (pA)')\n",
    "  plt.legend(loc='best')\n",
    "  plt.show()"
   ]
  },
  {
   "cell_type": "code",
   "execution_count": 13,
   "id": "cdbb0853-d5c7-43dd-903d-70e3a84fe498",
   "metadata": {},
   "outputs": [],
   "source": [
    "\n",
    "\"\"\"\n",
    "If we use a DC input, the F-I curve is deterministic, and we can\n",
    "found its shape by solving the membrane equation of the neuron. If we have GWN,\n",
    "as we increase the sigma, the F-I curve has a more linear shape, and the neuron\n",
    "reaches its threshold using less average injected current.\n",
    "\"\"\";"
   ]
  },
  {
   "cell_type": "markdown",
   "id": "a77d1695-1705-4249-9ce9-5c4500da37ff",
   "metadata": {},
   "source": [
    "## Coding Exercise 3: Compute $CV_{ISI}$ values\n",
    "\n",
    "As shown above, the F-I curve becomes smoother while increasing the amplitude of the fluctuation ($\\sigma$). In addition, the fluctuation can also change the irregularity of the spikes. Let's investigate the effect of $\\mu=250$ with $\\sigma=0.5$ vs $\\sigma=3$.\n",
    "\n",
    "Fill in the code below to compute ISI, then plot the histogram of the ISI and compute the $CV_{ISI}$. Note that, you can use `np.diff` to calculate ISI."
   ]
  },
  {
   "cell_type": "code",
   "execution_count": 14,
   "id": "acedf4f7-aabc-42ef-b92f-64ff87cb955b",
   "metadata": {},
   "outputs": [
    {
     "data": {
      "image/png": "[encoded data removed]",
      "text/plain": [
       "<Figure size 1100x400 with 2 Axes>"
      ]
     },
     "metadata": {
      "image/png": {
       "height": 374,
       "width": 1076
      }
     },
     "output_type": "display_data"
    }
   ],
   "source": [
    "def isi_cv_LIF(spike_times):\n",
    "  \"\"\"\n",
    "  Calculates the interspike intervals (isi) and\n",
    "  the coefficient of variation (cv) for a given spike_train\n",
    "\n",
    "  Args:\n",
    "    spike_times : (n, ) vector with the spike times (ndarray)\n",
    "\n",
    "  Returns:\n",
    "    isi         : (n-1,) vector with the inter-spike intervals (ms)\n",
    "    cv          : coefficient of variation of isi (float)\n",
    "\n",
    "  \"\"\"\n",
    "  ########################################################################\n",
    "  ## TODO for students: compute the membrane potential v, spike train sp #\n",
    "  # Fill out function and remove\n",
    "  # raise NotImplementedError('Student Exercise: calculate the isi and the cv!')\n",
    "  ########################################################################\n",
    "  if len(spike_times) >= 2:\n",
    "    # Compute isi\n",
    "    isi = np.diff(spike_times)\n",
    "    # Compute cv\n",
    "    cv = isi.std() / isi.mean()\n",
    "  else:\n",
    "    isi = np.nan\n",
    "    cv = np.nan\n",
    "\n",
    "  return isi, cv\n",
    "\n",
    "\n",
    "# Set parameters\n",
    "pars = default_pars(T=1000.)\n",
    "mu_gwn = 250\n",
    "sig_gwn1 = 0.5\n",
    "sig_gwn2 = 3.0\n",
    "\n",
    "# Run LIF model for sigma = 0.5\n",
    "I_GWN1 = my_GWN(pars, mu=mu_gwn, sig=sig_gwn1, myseed=2020)\n",
    "_, sp1 = run_LIF(pars, Iinj=I_GWN1)\n",
    "\n",
    "# Run LIF model for sigma = 3\n",
    "I_GWN2 = my_GWN(pars, mu=mu_gwn, sig=sig_gwn2, myseed=2020)\n",
    "_, sp2 = run_LIF(pars, Iinj=I_GWN2)\n",
    "\n",
    "# Compute ISIs/CV\n",
    "isi1, cv1 = isi_cv_LIF(sp1)\n",
    "isi2, cv2 = isi_cv_LIF(sp2)\n",
    "\n",
    "# Visualize\n",
    "my_hists(isi1, isi2, cv1, cv2, sig_gwn1, sig_gwn2)"
   ]
  },
  {
   "cell_type": "markdown",
   "id": "af3d9276-8a00-4de7-95d2-287a7c113623",
   "metadata": {},
   "source": [
    "## Interactive Demo 3B: Spike irregularity explorer for different `sig_gwn`\n",
    "\n",
    "In the above illustration, we see that the CV of inter-spike-interval (ISI) distribution depends on $\\sigma$ of GWN. What about the mean of GWN, should that also affect the CV$_{\\rm ISI}$? If yes, how? Does the efficacy of $\\sigma$ in increasing the CV$_{\\rm ISI}$ depend on $\\mu$?\n",
    "\n",
    "In the following interactive demo, you will examine how different levels of fluctuation $\\sigma$ affect the CVs for different average injected currents ($\\mu$).\n",
    "\n",
    "1. Does the standard deviation of the injected current affect the F-I curve in any qualitative manner?\n",
    "2. Why does increasing the mean of GWN reduce the CV$_{\\rm ISI}$?\n",
    "3.  If you plot spike count (or rate) vs. CV$_{\\rm ISI}$, should there be a relationship between the two? Try out yourself."
   ]
  },
  {
   "cell_type": "code",
   "execution_count": 27,
   "id": "6b4695eb-54e0-49c0-be06-c56e96e259ff",
   "metadata": {},
   "outputs": [
    {
     "data": {
      "application/vnd.jupyter.widget-view+json": {
       "model_id": "9d7747a30c8740639da5deff63f31393",
       "version_major": 2,
       "version_minor": 0
      },
      "text/plain": [
       "interactive(children=(FloatSlider(value=0.0, description='sig_gwn', layout=Layout(width='450px'), max=10.0, st…"
      ]
     },
     "metadata": {},
     "output_type": "display_data"
    }
   ],
   "source": [
    "# @markdown Make sure you execute this cell to enable the widget!\n",
    "\n",
    "my_layout.width = '450px'\n",
    "@widgets.interact(\n",
    "    sig_gwn=widgets.FloatSlider(0.0, min=0., max=10.,\n",
    "                                step=0.5, layout=my_layout)\n",
    ")\n",
    "\n",
    "\n",
    "def diff_std_affect_fI(sig_gwn):\n",
    "  pars = default_pars(T=1000.)\n",
    "  I_mean = np.arange(100., 400., 20)\n",
    "  spk_count = np.zeros(len(I_mean))\n",
    "  cv_isi = np.empty(len(I_mean))\n",
    "\n",
    "  for idx in range(len(I_mean)):\n",
    "    I_GWN = my_GWN(pars, mu=I_mean[idx], sig=sig_gwn)\n",
    "    v, rec_spikes = run_LIF(pars, Iinj=I_GWN)\n",
    "    spk_count[idx] = len(rec_spikes)\n",
    "    if len(rec_spikes) > 3:\n",
    "      isi = np.diff(rec_spikes)\n",
    "      cv_isi[idx] = np.std(isi) / np.mean(isi)\n",
    "\n",
    "  # Plot the F-I curve i.e. Output firing rate as a function of input mean.\n",
    "  plt.figure()\n",
    "  plt.plot(I_mean[spk_count > 5], cv_isi[spk_count > 5], 'bo', alpha=0.5)\n",
    "  plt.xlabel('Average injected current (pA)')\n",
    "  plt.ylabel(r'Spike irregularity ($\\mathrm{CV}_\\mathrm{ISI}$)')\n",
    "  plt.ylim(-0.1, 1.5)\n",
    "  plt.grid(True)\n",
    "  plt.show()"
   ]
  },
  {
   "cell_type": "code",
   "execution_count": null,
   "id": "067f84b9-9d13-4897-b3b8-79a28a2a7f11",
   "metadata": {},
   "outputs": [],
   "source": [
    "\"\"\"\n",
    "1. Yes, it does. With DC input the F-I curve has a strong non-linearity but when\n",
    "a neuron is driven with GWN, as we increase the $\\sigma$ the non-linearity is\n",
    "smoothened out. Essentially, in this case noise is acting to suppress the\n",
    "non-linearities and render a neuron as a linear system.\n",
    "\n",
    "2. (here is a short answer) When we increase the mean of the GWN, at some point\n",
    "effective input mean is above the spike threshold and then the neuron operates\n",
    "in the so called mean-driven regime -- as the input is so high all the neuron\n",
    "is does is charge up to the spike threshold and reset. This essentially gives\n",
    "almost regular spiking.\n",
    "\n",
    "3. In an LIF, high firing rates are achieved for high GWN mean. Higher the mean,\n",
    "higher the firing rate and lower the CV_ISI. So you will expect that as firing rate\n",
    "increases, spike irregularity decreases. This is because of the spike threshold.\n",
    "FOr a Poisson process there is no relationship between spike rate and spike\n",
    "irregularity.\n",
    "\"\"\";"
   ]
  },
  {
   "cell_type": "markdown",
   "id": "0f0e8bb4-a20b-43a8-a405-80a41289c4fa",
   "metadata": {},
   "source": [
    "#### Plotting spike count vs. CV$_{\\rm ISI}$\n",
    "\n",
    "Unsure if this is done correctly"
   ]
  },
  {
   "cell_type": "code",
   "execution_count": 28,
   "id": "43be00a4-5d90-40af-add0-b248a9bc44ca",
   "metadata": {},
   "outputs": [
    {
     "data": {
      "application/vnd.jupyter.widget-view+json": {
       "model_id": "13b90f6358994562977a80c0eeb6da04",
       "version_major": 2,
       "version_minor": 0
      },
      "text/plain": [
       "interactive(children=(FloatSlider(value=0.0, description='sig_gwn', layout=Layout(width='450px'), max=10.0, st…"
      ]
     },
     "metadata": {},
     "output_type": "display_data"
    }
   ],
   "source": [
    "# @markdown Make sure you execute this cell to enable the widget!\n",
    "\n",
    "my_layout.width = '450px'\n",
    "@widgets.interact(\n",
    "    sig_gwn=widgets.FloatSlider(0.0, min=0., max=10.,\n",
    "                                step=0.5, layout=my_layout)\n",
    ")\n",
    "\n",
    "\n",
    "def diff_std_affect_fI(sig_gwn):\n",
    "  pars = default_pars(T=1000.)\n",
    "  I_mean = np.arange(100., 400., 20)\n",
    "  spk_count = np.zeros(len(I_mean))\n",
    "  cv_isi = np.empty(len(I_mean))\n",
    "\n",
    "  for idx in range(len(I_mean)):\n",
    "    I_GWN = my_GWN(pars, mu=I_mean[idx], sig=sig_gwn)\n",
    "    v, rec_spikes = run_LIF(pars, Iinj=I_GWN)\n",
    "    spk_count[idx] = len(rec_spikes)\n",
    "    if len(rec_spikes) > 3:\n",
    "      isi = np.diff(rec_spikes)\n",
    "      cv_isi[idx] = np.std(isi) / np.mean(isi)\n",
    "\n",
    "  # Plot the F-I curve i.e. Output firing rate as a function of input mean.\n",
    "  plt.figure()\n",
    "  plt.plot(spk_count, cv_isi, 'bo', alpha=0.5)\n",
    "  plt.xlabel('Spike Count')\n",
    "  plt.ylabel(r'Spike irregularity ($\\mathrm{CV}_\\mathrm{ISI}$)')\n",
    "  plt.ylim(-0.1, 1.5)\n",
    "  plt.grid(True)\n",
    "  plt.show()"
   ]
  },
  {
   "cell_type": "markdown",
   "id": "96e784f9-d90b-49d9-8419-fbaacfc7869b",
   "metadata": {},
   "source": [
    "#### Plotting spike rate vs. CV$_{\\rm ISI}$\n",
    "\n",
    "Can't figure out how to get this to work yet."
   ]
  },
  {
   "cell_type": "code",
   "execution_count": 34,
   "id": "3b1641e6-761a-4a39-8a88-94b863b3a2b2",
   "metadata": {},
   "outputs": [
    {
     "data": {
      "image/png": "[encoded data removed]",
      "text/plain": [
       "<Figure size 800x600 with 1 Axes>"
      ]
     },
     "metadata": {
      "image/png": {
       "height": 575,
       "width": 775
      }
     },
     "output_type": "display_data"
    },
    {
     "data": {
      "application/vnd.jupyter.widget-view+json": {
       "model_id": "41c7f9ce067a41dab64a81ea10389d79",
       "version_major": 2,
       "version_minor": 0
      },
      "text/plain": [
       "interactive(children=(FloatSlider(value=0.0, description='sig_gwn', layout=Layout(width='450px'), max=10.0, st…"
      ]
     },
     "metadata": {},
     "output_type": "display_data"
    }
   ],
   "source": [
    "# @markdown Make sure you execute this cell to enable the widget!\n",
    "\n",
    "my_layout.width = '450px'\n",
    "@widgets.interact(\n",
    "    sig_gwn=widgets.FloatSlider(0.0, min=0., max=10.,\n",
    "                                step=0.5, layout=my_layout)\n",
    ")\n",
    "\n",
    "\n",
    "def diff_std_affect_fI(sig_gwn):\n",
    "  pars = default_pars(T=1000.)\n",
    "  I_mean = np.arange(100., 400., 20)\n",
    "  spk_count = np.zeros(len(I_mean))\n",
    "  cv_isi = np.empty(len(I_mean))\n",
    "\n",
    "  for idx in range(len(I_mean)):\n",
    "    I_GWN = my_GWN(pars, mu=I_mean[idx], sig=sig_gwn)\n",
    "    v, rec_spikes = run_LIF(pars, Iinj=I_GWN)\n",
    "    spk_count[idx] = len(rec_spikes)\n",
    "    if len(rec_spikes) > 3:\n",
    "      isi = np.diff(rec_spikes)\n",
    "      cv_isi[idx] = np.std(isi) / np.mean(isi)\n",
    "\n",
    "  # Plot the F-I curve i.e. Output firing rate as a function of input mean.\n",
    "  plt.figure()\n",
    "  plt.plot(np.diff(spk_count), cv_isi, 'bo', alpha=0.5)\n",
    "  plt.xlabel('Spike Rate')\n",
    "  plt.ylabel(r'Spike irregularity ($\\mathrm{CV}_\\mathrm{ISI}$)')\n",
    "  plt.ylim(-0.1, 1.5)\n",
    "  plt.grid(True)\n",
    "  plt.show()"
   ]
  },
  {
   "cell_type": "code",
   "execution_count": null,
   "id": "bc234540-a4d3-4158-954b-e2f7478fc1d8",
   "metadata": {},
   "outputs": [],
   "source": []
  }
 ],
 "metadata": {
  "kernelspec": {
   "display_name": "Python 3 (ipykernel)",
   "language": "python",
   "name": "python3"
  },
  "language_info": {
   "codemirror_mode": {
    "name": "ipython",
    "version": 3
   },
   "file_extension": ".py",
   "mimetype": "text/x-python",
   "name": "python",
   "nbconvert_exporter": "python",
   "pygments_lexer": "ipython3",
   "version": "3.13.2"
  }
 },
 "nbformat": 4,
 "nbformat_minor": 5
}
